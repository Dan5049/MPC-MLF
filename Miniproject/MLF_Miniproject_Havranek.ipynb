{
  "cells": [
    {
      "cell_type": "markdown",
      "metadata": {
        "id": "view-in-github",
        "colab_type": "text"
      },
      "source": [
        "<a href=\"https://colab.research.google.com/github/Dan5049/MPC-MLF/blob/main/Miniproject/MLF_Miniproject_Havranek.ipynb\" target=\"_parent\"><img src=\"https://colab.research.google.com/assets/colab-badge.svg\" alt=\"Open In Colab\"/></a>"
      ]
    },
    {
      "cell_type": "markdown",
      "metadata": {
        "id": "ygmSABc3YWAJ"
      },
      "source": [
        "# **MPA-MLF Miniproject**\n",
        "# Classification of wireless transmitters\n",
        "### Daniel Havránek"
      ]
    },
    {
      "cell_type": "code",
      "execution_count": 1,
      "metadata": {
        "colab": {
          "base_uri": "https://localhost:8080/"
        },
        "id": "Eb9Xesg8Yw86",
        "outputId": "d13f1c6b-b06c-4920-f40b-5eb555b6fa27"
      },
      "outputs": [
        {
          "output_type": "stream",
          "name": "stdout",
          "text": [
            "Drive already mounted at /content/drive; to attempt to forcibly remount, call drive.mount(\"/content/drive\", force_remount=True).\n"
          ]
        }
      ],
      "source": [
        "from google.colab import drive\n",
        "drive.mount('/content/drive')\n",
        "\n",
        "import numpy as np\n",
        "import matplotlib.pyplot as plt\n",
        "import matplotlib\n",
        "import pandas as pd\n",
        "from sklearn.model_selection import train_test_split\n",
        "from keras.models import Sequential\n",
        "from keras.layers import Dense, Flatten, Dropout\n",
        "from keras.optimizers import SGD, RMSprop, Adam, Adadelta, Adagrad, Adamax, Nadam, Ftrl\n",
        "from keras.datasets import cifar10\n",
        "from keras.utils import to_categorical\n",
        "\n",
        "x_validation = pd.read_csv('drive/MyDrive/Colab Notebooks/x_test.csv')\n",
        "x_in = pd.read_csv('drive/MyDrive/Colab Notebooks/x_train.csv')\n",
        "y_in = pd.read_csv('drive/MyDrive/Colab Notebooks/y_train.csv')\n",
        "\n",
        "x_train, x_test, y_train, y_test = train_test_split(x_in, y_in, test_size = 0.2)\n",
        "x_train = x_train.drop(\"Unnamed: 0\", axis=1)\n",
        "x_train = x_train.drop(\"m_power\", axis=1)\n",
        "x_train = x_train.drop(\"Tosc\", axis=1)\n",
        "x_train = x_train.drop(\"Tmix\", axis=1)\n",
        "x_test = x_test.drop(\"Unnamed: 0\", axis=1)\n",
        "x_test = x_test.drop(\"m_power\", axis=1)\n",
        "x_test = x_test.drop(\"Tosc\", axis=1)\n",
        "x_test = x_test.drop(\"Tmix\", axis=1)\n",
        "y_train = y_train.drop(\"id\", axis=1)\n",
        "y_test = y_test.drop(\"id\", axis=1)\n",
        "\n",
        "x_val = x_validation.drop(\"Unnamed: 0\", axis=1)\n",
        "x_val = x_val.drop(\"m_power\", axis=1)\n",
        "x_val = x_val.drop(\"Tosc\", axis=1)\n",
        "x_val = x_val.drop(\"Tmix\", axis=1)"
      ]
    },
    {
      "cell_type": "code",
      "execution_count": 2,
      "metadata": {
        "id": "d3oIjC4Vf3Ao"
      },
      "outputs": [],
      "source": [
        "#labels = {0:'zero',1:'one',2:'two',3:'three',4:'four',5:'five',6:'six',7:'seven'}\n",
        "n_classes = 8\n",
        "\n",
        "x_train_scaled = (x_train - x_train.min()) / (x_train.max() - x_train.min())\n",
        "x_test_scaled = (x_test - x_test.min()) / (x_test.max() - x_test.min())\n",
        "x_val_scaled = (x_val - x_val.min()) / (x_val.max() - x_val.min())\n",
        "\n",
        "y_train_0 = y_train - 1\n",
        "y_train_encoded = to_categorical(y_train_0.to_numpy().reshape(-1,1), num_classes=n_classes)\n",
        "y_test_0 = y_test - 1\n",
        "y_test_encoded = to_categorical(y_test_0.to_numpy().reshape(-1,1), num_classes=n_classes)"
      ]
    },
    {
      "cell_type": "code",
      "source": [
        "model = Sequential()\n",
        "model.add(Dense(512, input_dim=8, activation='sigmoid'))\n",
        "model.add(Dropout(0.01, input_shape=(8,)))\n",
        "#model.add(Dense(512, input_dim=8, activation='sigmoid'))\n",
        "model.add(Dense(n_classes, activation='softmax'))\n",
        "model.summary()"
      ],
      "metadata": {
        "colab": {
          "base_uri": "https://localhost:8080/"
        },
        "id": "IyEnlGZi8Gue",
        "outputId": "447eaa49-3926-4e3a-f8c2-0f8da5462253"
      },
      "execution_count": 3,
      "outputs": [
        {
          "output_type": "stream",
          "name": "stdout",
          "text": [
            "Model: \"sequential\"\n",
            "_________________________________________________________________\n",
            " Layer (type)                Output Shape              Param #   \n",
            "=================================================================\n",
            " dense (Dense)               (None, 512)               4608      \n",
            "                                                                 \n",
            " dropout (Dropout)           (None, 512)               0         \n",
            "                                                                 \n",
            " dense_1 (Dense)             (None, 8)                 4104      \n",
            "                                                                 \n",
            "=================================================================\n",
            "Total params: 8,712\n",
            "Trainable params: 8,712\n",
            "Non-trainable params: 0\n",
            "_________________________________________________________________\n"
          ]
        }
      ]
    },
    {
      "cell_type": "code",
      "source": [
        "optimizer = SGD(learning_rate = 0.1)\n",
        "model.compile(loss='categorical_crossentropy', optimizer=optimizer, metrics=['accuracy'])\n",
        "\n",
        "history = model.fit(x_train_scaled, y_train_encoded, epochs=20, batch_size=16, validation_split = 0.2, verbose=1)"
      ],
      "metadata": {
        "id": "wfYAHKuu8TrK",
        "colab": {
          "base_uri": "https://localhost:8080/"
        },
        "outputId": "713a6eff-8a82-4b48-a700-7ec35ae0f67d"
      },
      "execution_count": 4,
      "outputs": [
        {
          "output_type": "stream",
          "name": "stdout",
          "text": [
            "Epoch 1/20\n",
            "615/615 [==============================] - 6s 3ms/step - loss: 2.4179 - accuracy: 0.2117 - val_loss: 2.0809 - val_accuracy: 0.2356\n",
            "Epoch 2/20\n",
            "615/615 [==============================] - 2s 3ms/step - loss: 1.3814 - accuracy: 0.4474 - val_loss: 1.8022 - val_accuracy: 0.4247\n",
            "Epoch 3/20\n",
            "615/615 [==============================] - 2s 3ms/step - loss: 0.8401 - accuracy: 0.6956 - val_loss: 0.7318 - val_accuracy: 0.8104\n",
            "Epoch 4/20\n",
            "615/615 [==============================] - 2s 3ms/step - loss: 0.5503 - accuracy: 0.8377 - val_loss: 0.4204 - val_accuracy: 0.9105\n",
            "Epoch 5/20\n",
            "615/615 [==============================] - 3s 5ms/step - loss: 0.3922 - accuracy: 0.9046 - val_loss: 0.5523 - val_accuracy: 0.7213\n",
            "Epoch 6/20\n",
            "615/615 [==============================] - 2s 3ms/step - loss: 0.3103 - accuracy: 0.9290 - val_loss: 0.2750 - val_accuracy: 0.9585\n",
            "Epoch 7/20\n",
            "615/615 [==============================] - 2s 3ms/step - loss: 0.2440 - accuracy: 0.9563 - val_loss: 0.2432 - val_accuracy: 0.9386\n",
            "Epoch 8/20\n",
            "615/615 [==============================] - 2s 3ms/step - loss: 0.2079 - accuracy: 0.9636 - val_loss: 0.2293 - val_accuracy: 0.9129\n",
            "Epoch 9/20\n",
            "615/615 [==============================] - 2s 3ms/step - loss: 0.1786 - accuracy: 0.9715 - val_loss: 0.2101 - val_accuracy: 0.9186\n",
            "Epoch 10/20\n",
            "615/615 [==============================] - 2s 3ms/step - loss: 0.1580 - accuracy: 0.9761 - val_loss: 0.1496 - val_accuracy: 0.9699\n",
            "Epoch 11/20\n",
            "615/615 [==============================] - 2s 4ms/step - loss: 0.1399 - accuracy: 0.9781 - val_loss: 0.1892 - val_accuracy: 0.9243\n",
            "Epoch 12/20\n",
            "615/615 [==============================] - 2s 4ms/step - loss: 0.1281 - accuracy: 0.9810 - val_loss: 0.1223 - val_accuracy: 0.9793\n",
            "Epoch 13/20\n",
            "615/615 [==============================] - 2s 3ms/step - loss: 0.1149 - accuracy: 0.9851 - val_loss: 0.1189 - val_accuracy: 0.9910\n",
            "Epoch 14/20\n",
            "615/615 [==============================] - 2s 3ms/step - loss: 0.1069 - accuracy: 0.9858 - val_loss: 0.0932 - val_accuracy: 0.9959\n",
            "Epoch 15/20\n",
            "615/615 [==============================] - 2s 3ms/step - loss: 0.0982 - accuracy: 0.9869 - val_loss: 0.0835 - val_accuracy: 0.9931\n",
            "Epoch 16/20\n",
            "615/615 [==============================] - 2s 3ms/step - loss: 0.0933 - accuracy: 0.9875 - val_loss: 0.0776 - val_accuracy: 0.9919\n",
            "Epoch 17/20\n",
            "615/615 [==============================] - 2s 3ms/step - loss: 0.0879 - accuracy: 0.9884 - val_loss: 0.0771 - val_accuracy: 0.9959\n",
            "Epoch 18/20\n",
            "615/615 [==============================] - 3s 4ms/step - loss: 0.0807 - accuracy: 0.9897 - val_loss: 0.0699 - val_accuracy: 0.9923\n",
            "Epoch 19/20\n",
            "615/615 [==============================] - 2s 4ms/step - loss: 0.0784 - accuracy: 0.9891 - val_loss: 0.0701 - val_accuracy: 0.9927\n",
            "Epoch 20/20\n",
            "615/615 [==============================] - 2s 3ms/step - loss: 0.0734 - accuracy: 0.9897 - val_loss: 0.0630 - val_accuracy: 0.9955\n"
          ]
        }
      ]
    },
    {
      "cell_type": "code",
      "source": [
        "score = model.evaluate(x_test_scaled, y_test_encoded, verbose=0)\n",
        "print('Test loss:', score[0])\n",
        "print(f'Test accuracy: {score[1]*100} %')"
      ],
      "metadata": {
        "colab": {
          "base_uri": "https://localhost:8080/"
        },
        "id": "nemFjcpQ9rSx",
        "outputId": "4ea40dbd-4556-4f8c-fae0-9e303b4f4267"
      },
      "execution_count": 5,
      "outputs": [
        {
          "output_type": "stream",
          "name": "stdout",
          "text": [
            "Test loss: 0.4714372158050537\n",
            "Test accuracy: 86.65364384651184 %\n"
          ]
        }
      ]
    },
    {
      "cell_type": "code",
      "source": [
        "plt.figure()\n",
        "plt.plot(history.history['loss'], label=\"loss\")\n",
        "plt.plot(history.history['val_loss'], label=\"val_loss\")\n",
        "plt.legend(loc=\"upper right\")\n",
        "plt.xlabel('n epochs')\n",
        "plt.ylabel('val_loss, loss')\n",
        "plt.show()\n",
        "\n",
        "plt.figure()\n",
        "plt.plot(history.history['accuracy'], label=\"accuracy\")\n",
        "plt.plot(history.history['val_accuracy'], label=\"val_accuracy\")\n",
        "plt.legend(loc=\"lower right\")\n",
        "plt.xlabel('n epochs')\n",
        "plt.ylabel('val_accuracy, accuracy')\n",
        "plt.show()"
      ],
      "metadata": {
        "colab": {
          "base_uri": "https://localhost:8080/",
          "height": 542
        },
        "id": "KSnLtHqWdHl0",
        "outputId": "a66ec2b2-1fc3-49d7-e081-a4e884c1e5ad"
      },
      "execution_count": 10,
      "outputs": [
        {
          "output_type": "display_data",
          "data": {
            "text/plain": [
              "<Figure size 432x288 with 1 Axes>"
            ],
            "image/png": "[encoded data removed]"
          },
          "metadata": {
            "needs_background": "light"
          }
        },
        {
          "output_type": "display_data",
          "data": {
            "text/plain": [
              "<Figure size 432x288 with 1 Axes>"
            ],
            "image/png": "[encoded data removed]"
          },
          "metadata": {
            "needs_background": "light"
          }
        }
      ]
    },
    {
      "cell_type": "code",
      "source": [
        "prediction = model.predict(x_val_scaled)\n",
        "\n",
        "ind = np.argmax(prediction, axis=1)\n",
        "res = ind + 1\n",
        "result = pd.DataFrame({'id': np.arange(0, len(res)), 'target': res})\n",
        "result = result.drop(\"id\", axis=1)\n",
        "result.index.name = 'id'\n",
        "\n",
        "plt.figure()\n",
        "plt.hist(result, bins=8)\n",
        "plt.show()"
      ],
      "metadata": {
        "colab": {
          "base_uri": "https://localhost:8080/",
          "height": 282
        },
        "id": "h4aC5Zqhe48q",
        "outputId": "7bd6f7d0-0d86-43ae-ccf5-32dec578453b"
      },
      "execution_count": 7,
      "outputs": [
        {
          "output_type": "stream",
          "name": "stdout",
          "text": [
            "120/120 [==============================] - 0s 2ms/step\n"
          ]
        },
        {
          "output_type": "display_data",
          "data": {
            "text/plain": [
              "<Figure size 432x288 with 1 Axes>"
            ],
            "image/png": "[encoded data removed]"
          },
          "metadata": {
            "needs_background": "light"
          }
        }
      ]
    },
    {
      "cell_type": "code",
      "source": [
        "from google.colab import files\n",
        "result.to_csv('result.csv') \n",
        "files.download('result.csv')"
      ],
      "metadata": {
        "id": "QQaAKpuxOWvR",
        "colab": {
          "base_uri": "https://localhost:8080/",
          "height": 17
        },
        "outputId": "2c8d1295-d5ae-470e-f7de-69ed0bafd48e"
      },
      "execution_count": null,
      "outputs": [
        {
          "output_type": "display_data",
          "data": {
            "text/plain": [
              "<IPython.core.display.Javascript object>"
            ],
            "application/javascript": [
              "\n",
              "    async function download(id, filename, size) {\n",
              "      if (!google.colab.kernel.accessAllowed) {\n",
              "        return;\n",
              "      }\n",
              "      const div = document.createElement('div');\n",
              "      const label = document.createElement('label');\n",
              "      label.textContent = `Downloading \"${filename}\": `;\n",
              "      div.appendChild(label);\n",
              "      const progress = document.createElement('progress');\n",
              "      progress.max = size;\n",
              "      div.appendChild(progress);\n",
              "      document.body.appendChild(div);\n",
              "\n",
              "      const buffers = [];\n",
              "      let downloaded = 0;\n",
              "\n",
              "      const channel = await google.colab.kernel.comms.open(id);\n",
              "      // Send a message to notify the kernel that we're ready.\n",
              "      channel.send({})\n",
              "\n",
              "      for await (const message of channel.messages) {\n",
              "        // Send a message to notify the kernel that we're ready.\n",
              "        channel.send({})\n",
              "        if (message.buffers) {\n",
              "          for (const buffer of message.buffers) {\n",
              "            buffers.push(buffer);\n",
              "            downloaded += buffer.byteLength;\n",
              "            progress.value = downloaded;\n",
              "          }\n",
              "        }\n",
              "      }\n",
              "      const blob = new Blob(buffers, {type: 'application/binary'});\n",
              "      const a = document.createElement('a');\n",
              "      a.href = window.URL.createObjectURL(blob);\n",
              "      a.download = filename;\n",
              "      div.appendChild(a);\n",
              "      a.click();\n",
              "      div.remove();\n",
              "    }\n",
              "  "
            ]
          },
          "metadata": {}
        },
        {
          "output_type": "display_data",
          "data": {
            "text/plain": [
              "<IPython.core.display.Javascript object>"
            ],
            "application/javascript": [
              "download(\"download_48d07d9d-28a0-43ef-b1ef-2cb26c80fb6b\", \"result.csv\", 25780)"
            ]
          },
          "metadata": {}
        }
      ]
    }
  ],
  "metadata": {
    "accelerator": "GPU",
    "colab": {
      "provenance": [],
      "mount_file_id": "1NvZoEZDJDqtYlLuieyLrSkIF3le05J5M",
      "authorship_tag": "ABX9TyPLCIuJotmP57lUBWJh/3mG",
      "include_colab_link": true
    },
    "gpuClass": "standard",
    "kernelspec": {
      "display_name": "Python 3",
      "name": "python3"
    },
    "language_info": {
      "name": "python"
    }
  },
  "nbformat": 4,
  "nbformat_minor": 0
}